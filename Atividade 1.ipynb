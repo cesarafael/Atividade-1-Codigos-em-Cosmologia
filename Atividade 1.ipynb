{
 "cells": [
  {
   "cell_type": "code",
   "execution_count": 1,
   "id": "32a4419a",
   "metadata": {},
   "outputs": [
    {
     "name": "stdout",
     "output_type": "stream",
     "text": [
      "rafael-370E4K\n",
      "Linux\n",
      "/home/rafael/anaconda3/bin/python\n",
      "3.8.8 (default, Apr 13 2021, 19:58:26) \n",
      "[GCC 7.3.0]\n",
      "1.6.2\n",
      "1.20.1\n"
     ]
    }
   ],
   "source": [
    "import numpy\n",
    "import scipy\n",
    "import socket\n",
    "import platform\n",
    "import sys\n",
    "\n",
    "#Atividade 1 - Código em Cosmologia#\n",
    "print(socket.gethostname())\n",
    "print(platform.system())\n",
    "print(sys.executable)\n",
    "print(sys.version)\n",
    "print(scipy.version.version)\n",
    "print(numpy.version.version)"
   ]
  },
  {
   "cell_type": "code",
   "execution_count": null,
   "id": "ecabff0d",
   "metadata": {},
   "outputs": [],
   "source": []
  }
 ],
 "metadata": {
  "kernelspec": {
   "display_name": "Python 3",
   "language": "python",
   "name": "python3"
  },
  "language_info": {
   "codemirror_mode": {
    "name": "ipython",
    "version": 3
   },
   "file_extension": ".py",
   "mimetype": "text/x-python",
   "name": "python",
   "nbconvert_exporter": "python",
   "pygments_lexer": "ipython3",
   "version": "3.8.8"
  }
 },
 "nbformat": 4,
 "nbformat_minor": 5
}
